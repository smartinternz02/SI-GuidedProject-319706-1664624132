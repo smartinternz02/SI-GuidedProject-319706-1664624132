{
 "cells": [
  {
   "cell_type": "markdown",
   "id": "78c34663",
   "metadata": {},
   "source": [
    "# Import The ImageDataGenerator Library"
   ]
  },
  {
   "cell_type": "code",
   "execution_count": 5,
   "id": "60407a00",
   "metadata": {},
   "outputs": [],
   "source": [
    "from keras.preprocessing.image import ImageDataGenerator"
   ]
  },
  {
   "cell_type": "markdown",
   "id": "3615fcfa",
   "metadata": {},
   "source": [
    "# Image Data Agumentation"
   ]
  },
  {
   "cell_type": "code",
   "execution_count": 6,
   "id": "c84f190f",
   "metadata": {},
   "outputs": [],
   "source": [
    "train_datagen = ImageDataGenerator(rescale=1./255,shear_range=0.2,zoom_range=0.2,horizontal_flip=True)\n",
    "\n",
    "test_datagen=ImageDataGenerator(rescale=1./255)"
   ]
  },
  {
   "cell_type": "markdown",
   "id": "9eb4f93c",
   "metadata": {},
   "source": [
    "# Loading our data and performing data agumentation"
   ]
  },
  {
   "cell_type": "code",
   "execution_count": 7,
   "id": "519a2542",
   "metadata": {},
   "outputs": [
    {
     "name": "stdout",
     "output_type": "stream",
     "text": [
      "Found 700 images belonging to 5 classes.\n",
      "Found 300 images belonging to 5 classes.\n"
     ]
    }
   ],
   "source": [
    "x_train=train_datagen.flow_from_directory(r'C:\\Users\\Hp\\project\\Rock_Classification_Dataset\\trian_data',target_size=(64,64),batch_size=5,color_mode='rgb',class_mode='categorical')\n",
    "\n",
    "x_test=test_datagen.flow_from_directory(r'C:\\Users\\Hp\\project\\Rock_Classification_Dataset\\test_data',target_size=(64,64),batch_size=5,color_mode='rgb',class_mode='categorical')"
   ]
  },
  {
   "cell_type": "markdown",
   "id": "087edb63",
   "metadata": {},
   "source": [
    "# Importing Necessary Libraries"
   ]
  },
  {
   "cell_type": "code",
   "execution_count": 8,
   "id": "322a2d98",
   "metadata": {},
   "outputs": [],
   "source": [
    "import numpy as np\n",
    "import tensorflow\n",
    "from tensorflow.keras.models import Sequential\n",
    "from tensorflow.keras import layers\n",
    "from tensorflow.keras.layers import Dense,Flatten\n",
    "from tensorflow.keras.layers import Conv2D,MaxPooling2D\n",
    "from keras.preprocessing.image import ImageDataGenerator"
   ]
  },
  {
   "cell_type": "markdown",
   "id": "e4f7048e",
   "metadata": {},
   "source": [
    "# Initializing the model"
   ]
  },
  {
   "cell_type": "code",
   "execution_count": 9,
   "id": "c2b8b8c8",
   "metadata": {},
   "outputs": [],
   "source": [
    "# Example for initialization\n",
    "# model=Sequential()"
   ]
  },
  {
   "cell_type": "markdown",
   "id": "e3fea50b",
   "metadata": {},
   "source": [
    "# Adding CNN Layers"
   ]
  },
  {
   "cell_type": "code",
   "execution_count": 10,
   "id": "de057211",
   "metadata": {},
   "outputs": [],
   "source": [
    "classifier = Sequential()\n",
    "\n",
    "classifier.add(Conv2D(32,(3,3),input_shape=(64,64,3),activation='relu'))\n",
    "classifier.add(MaxPooling2D(pool_size=(2,2)))\n",
    "\n",
    "classifier.add(Conv2D(32,(3,3),activation='relu'))\n",
    "\n",
    "classifier.add(MaxPooling2D(pool_size=(2,2)))\n",
    "\n",
    "classifier.add(Flatten())"
   ]
  },
  {
   "cell_type": "markdown",
   "id": "3777cb71",
   "metadata": {},
   "source": [
    "# Adding Dense Layers"
   ]
  },
  {
   "cell_type": "code",
   "execution_count": 11,
   "id": "c57d77b7",
   "metadata": {},
   "outputs": [
    {
     "name": "stdout",
     "output_type": "stream",
     "text": [
      "Model: \"sequential\"\n",
      "_________________________________________________________________\n",
      " Layer (type)                Output Shape              Param #   \n",
      "=================================================================\n",
      " conv2d (Conv2D)             (None, 62, 62, 32)        896       \n",
      "                                                                 \n",
      " max_pooling2d (MaxPooling2D  (None, 31, 31, 32)       0         \n",
      " )                                                               \n",
      "                                                                 \n",
      " conv2d_1 (Conv2D)           (None, 29, 29, 32)        9248      \n",
      "                                                                 \n",
      " max_pooling2d_1 (MaxPooling  (None, 14, 14, 32)       0         \n",
      " 2D)                                                             \n",
      "                                                                 \n",
      " flatten (Flatten)           (None, 6272)              0         \n",
      "                                                                 \n",
      " dense (Dense)               (None, 128)               802944    \n",
      "                                                                 \n",
      " dense_1 (Dense)             (None, 5)                 645       \n",
      "                                                                 \n",
      "=================================================================\n",
      "Total params: 813,733\n",
      "Trainable params: 813,733\n",
      "Non-trainable params: 0\n",
      "_________________________________________________________________\n"
     ]
    }
   ],
   "source": [
    "classifier.add(Dense(units=128,activation='relu'))\n",
    "classifier.add(Dense(units=5,activation='softmax'))\n",
    "\n",
    "classifier.summary()"
   ]
  },
  {
   "cell_type": "markdown",
   "id": "aa8e3adf",
   "metadata": {},
   "source": [
    "# Compiling the model"
   ]
  },
  {
   "cell_type": "code",
   "execution_count": 28,
   "id": "088d2185",
   "metadata": {},
   "outputs": [],
   "source": [
    "classifier.compile(optimizer='adam',loss='categorical_crossentropy',metrics=['accuracy'])"
   ]
  },
  {
   "cell_type": "markdown",
   "id": "bff434f8",
   "metadata": {},
   "source": [
    "# Fitting the model"
   ]
  },
  {
   "cell_type": "code",
   "execution_count": 29,
   "id": "6ee3d920",
   "metadata": {},
   "outputs": [
    {
     "name": "stdout",
     "output_type": "stream",
     "text": [
      "Epoch 1/20\n",
      "140/140 [==============================] - 31s 213ms/step - loss: 0.9972 - accuracy: 0.5586 - val_loss: 0.6827 - val_accuracy: 0.7400\n",
      "Epoch 2/20\n",
      "140/140 [==============================] - 18s 125ms/step - loss: 0.5922 - accuracy: 0.7457 - val_loss: 0.5639 - val_accuracy: 0.8267\n",
      "Epoch 3/20\n",
      "140/140 [==============================] - 19s 138ms/step - loss: 0.5075 - accuracy: 0.7929 - val_loss: 0.4115 - val_accuracy: 0.8733\n",
      "Epoch 4/20\n",
      "140/140 [==============================] - 19s 135ms/step - loss: 0.4334 - accuracy: 0.8229 - val_loss: 0.5458 - val_accuracy: 0.8367\n",
      "Epoch 5/20\n",
      "140/140 [==============================] - 15s 105ms/step - loss: 0.4010 - accuracy: 0.8343 - val_loss: 0.7074 - val_accuracy: 0.6733\n",
      "Epoch 6/20\n",
      "140/140 [==============================] - 14s 100ms/step - loss: 0.4420 - accuracy: 0.8200 - val_loss: 0.6746 - val_accuracy: 0.7233\n",
      "Epoch 7/20\n",
      "140/140 [==============================] - 23s 161ms/step - loss: 0.3037 - accuracy: 0.8886 - val_loss: 0.8495 - val_accuracy: 0.6667\n",
      "Epoch 8/20\n",
      "140/140 [==============================] - 18s 127ms/step - loss: 0.3145 - accuracy: 0.8771 - val_loss: 0.4907 - val_accuracy: 0.8167\n",
      "Epoch 9/20\n",
      "140/140 [==============================] - 14s 102ms/step - loss: 0.3073 - accuracy: 0.8700 - val_loss: 0.4843 - val_accuracy: 0.8633\n",
      "Epoch 10/20\n",
      "140/140 [==============================] - 12s 83ms/step - loss: 0.3244 - accuracy: 0.8657 - val_loss: 0.5710 - val_accuracy: 0.7833\n",
      "Epoch 11/20\n",
      "140/140 [==============================] - 12s 87ms/step - loss: 0.2942 - accuracy: 0.8814 - val_loss: 0.4599 - val_accuracy: 0.8667\n",
      "Epoch 12/20\n",
      "140/140 [==============================] - 14s 102ms/step - loss: 0.2748 - accuracy: 0.8929 - val_loss: 0.4903 - val_accuracy: 0.8867\n",
      "Epoch 13/20\n",
      "140/140 [==============================] - 13s 91ms/step - loss: 0.2364 - accuracy: 0.9100 - val_loss: 0.4909 - val_accuracy: 0.8767\n",
      "Epoch 14/20\n",
      "140/140 [==============================] - 12s 89ms/step - loss: 0.2173 - accuracy: 0.9114 - val_loss: 0.4747 - val_accuracy: 0.9033\n",
      "Epoch 15/20\n",
      "140/140 [==============================] - 12s 87ms/step - loss: 0.2870 - accuracy: 0.8800 - val_loss: 0.3898 - val_accuracy: 0.8900\n",
      "Epoch 16/20\n",
      "140/140 [==============================] - 13s 89ms/step - loss: 0.2631 - accuracy: 0.9043 - val_loss: 0.3616 - val_accuracy: 0.8933\n",
      "Epoch 17/20\n",
      "140/140 [==============================] - 14s 99ms/step - loss: 0.2256 - accuracy: 0.9129 - val_loss: 0.6722 - val_accuracy: 0.8000\n",
      "Epoch 18/20\n",
      "140/140 [==============================] - 13s 93ms/step - loss: 0.2321 - accuracy: 0.9129 - val_loss: 0.4578 - val_accuracy: 0.8933\n",
      "Epoch 19/20\n",
      "140/140 [==============================] - 12s 89ms/step - loss: 0.2151 - accuracy: 0.9143 - val_loss: 0.7961 - val_accuracy: 0.7433\n",
      "Epoch 20/20\n",
      "140/140 [==============================] - 13s 93ms/step - loss: 0.3069 - accuracy: 0.8771 - val_loss: 0.6276 - val_accuracy: 0.8733\n"
     ]
    },
    {
     "data": {
      "text/plain": [
       "<keras.callbacks.History at 0x263b997deb0>"
      ]
     },
     "execution_count": 29,
     "metadata": {},
     "output_type": "execute_result"
    }
   ],
   "source": [
    "classifier.fit(\n",
    "    x_train,steps_per_epoch = len(x_train),\n",
    "    epochs=20,validation_data=x_test,validation_steps=len(x_test)\n",
    ")\n"
   ]
  },
  {
   "cell_type": "markdown",
   "id": "1ad3e111",
   "metadata": {},
   "source": [
    "# Save The Model"
   ]
  },
  {
   "cell_type": "code",
   "execution_count": 32,
   "id": "206c3c24",
   "metadata": {},
   "outputs": [],
   "source": [
    "classifier.save('rock.h5')\n",
    "\n",
    "model_json=classifier.to_json()\n",
    "\n",
    "with open(\"model-bw.json\",\"w\") as json_file:\n",
    "    json_file.write(model_json)\n"
   ]
  },
  {
   "cell_type": "markdown",
   "id": "25aab399",
   "metadata": {},
   "source": [
    "# Test the model"
   ]
  },
  {
   "cell_type": "code",
   "execution_count": 37,
   "id": "c8699dfa",
   "metadata": {},
   "outputs": [
    {
     "name": "stdout",
     "output_type": "stream",
     "text": [
      "1/1 [==============================] - 0s 190ms/step\n"
     ]
    },
    {
     "data": {
      "text/plain": [
       "array([[0., 0., 0., 0., 1.]], dtype=float32)"
      ]
     },
     "execution_count": 37,
     "metadata": {},
     "output_type": "execute_result"
    }
   ],
   "source": [
    "from tensorflow.keras.models import load_model\n",
    "from keras.preprocessing import image\n",
    "model=load_model(\"rock.h5\")\n",
    "\n",
    "img=tensorflow.keras.utils.load_img(r\"C:\\Users\\Hp\\project\\Rock_Classification_Dataset\\test_data\\red crystal\\red155.jpg\",grayscale=False,target_size=(64,64))\n",
    "\n",
    "x=tensorflow.keras.utils.img_to_array(img)\n",
    "x=np.expand_dims(x,axis=0)\n",
    "pred=model.predict(x)\n",
    "pred"
   ]
  },
  {
   "cell_type": "markdown",
   "id": "3ecdc809",
   "metadata": {},
   "source": [
    "# predicting the output"
   ]
  },
  {
   "cell_type": "code",
   "execution_count": 38,
   "id": "1a40ac1f",
   "metadata": {},
   "outputs": [
    {
     "data": {
      "text/plain": [
       "'blue calcite'"
      ]
     },
     "execution_count": 38,
     "metadata": {},
     "output_type": "execute_result"
    }
   ],
   "source": [
    "index=['blue calcite','limestone','marble','olivine','red crystal']\n",
    "result=str(index[int(pred[0][0])])\n",
    "result"
   ]
  }
 ],
 "metadata": {
  "kernelspec": {
   "display_name": "Python 3 (ipykernel)",
   "language": "python",
   "name": "python3"
  },
  "language_info": {
   "codemirror_mode": {
    "name": "ipython",
    "version": 3
   },
   "file_extension": ".py",
   "mimetype": "text/x-python",
   "name": "python",
   "nbconvert_exporter": "python",
   "pygments_lexer": "ipython3",
   "version": "3.9.12"
  }
 },
 "nbformat": 4,
 "nbformat_minor": 5
}
